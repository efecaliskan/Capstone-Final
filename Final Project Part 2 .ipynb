{
    "cells": [
        {
            "cell_type": "code",
            "execution_count": 10,
            "metadata": {},
            "outputs": [
                {
                    "name": "stdout",
                    "output_type": "stream",
                    "text": "Solving environment: done\n\n## Package Plan ##\n\n  environment location: /opt/conda/envs/Python36\n\n  added / updated specs: \n    - geopy\n\n\nThe following packages will be downloaded:\n\n    package                    |            build\n    ---------------------------|-----------------\n    certifi-2020.4.5.1         |   py36h9f0ad1d_0         151 KB  conda-forge\n    geographiclib-1.50         |             py_0          34 KB  conda-forge\n    ca-certificates-2020.4.5.1 |       hecc5488_0         146 KB  conda-forge\n    python_abi-3.6             |          1_cp36m           4 KB  conda-forge\n    geopy-1.21.0               |             py_0          58 KB  conda-forge\n    openssl-1.1.1f             |       h516909a_0         2.1 MB  conda-forge\n    ------------------------------------------------------------\n                                           Total:         2.5 MB\n\nThe following NEW packages will be INSTALLED:\n\n    geographiclib:   1.50-py_0         conda-forge\n    geopy:           1.21.0-py_0       conda-forge\n    python_abi:      3.6-1_cp36m       conda-forge\n\nThe following packages will be UPDATED:\n\n    ca-certificates: 2020.1.1-0                    --> 2020.4.5.1-hecc5488_0     conda-forge\n    certifi:         2019.11.28-py36_0             --> 2020.4.5.1-py36h9f0ad1d_0 conda-forge\n    openssl:         1.1.1e-h7b6447c_0             --> 1.1.1f-h516909a_0         conda-forge\n\n\nDownloading and Extracting Packages\ncertifi-2020.4.5.1   | 151 KB    | ##################################### | 100% \ngeographiclib-1.50   | 34 KB     | ##################################### | 100% \nca-certificates-2020 | 146 KB    | ##################################### | 100% \npython_abi-3.6       | 4 KB      | ##################################### | 100% \ngeopy-1.21.0         | 58 KB     | ##################################### | 100% \nopenssl-1.1.1f       | 2.1 MB    | ##################################### | 100% \nPreparing transaction: done\nVerifying transaction: done\nExecuting transaction: done\nLibraries imported.\n"
                }
            ],
            "source": "import numpy as np # library to handle data in a vectorized manner\n\nimport pandas as pd # library for data analsysis\npd.set_option('display.max_columns', None)\npd.set_option('display.max_rows', None)\n\nimport json # library to handle JSON files\n\n!conda install -c conda-forge geopy --yes # uncomment this line if you haven't completed the Foursquare API lab\nfrom geopy.geocoders import Nominatim # convert an address into latitude and longitude values\n\nimport requests # library to handle requests\nfrom pandas.io.json import json_normalize # tranform JSON file into a pandas dataframe\n\n# Matplotlib and associated plotting modules\nimport matplotlib.cm as cm\nimport matplotlib.colors as colors\nimport matplotlib.pyplot as plt\n\n# conda install -c anaconda beautiful-soup --yes\nfrom bs4 import BeautifulSoup # package for parsing HTML and XML documents\n\nimport csv # implements classes to read and write tabular data in CSV form\n\nprint('Libraries imported.')"
        },
        {
            "cell_type": "code",
            "execution_count": 11,
            "metadata": {},
            "outputs": [],
            "source": "website_url = requests.get('https://en.wikipedia.org/wiki/Demographics_of_New_York_City').text\nsoup = BeautifulSoup(website_url,'lxml')\ntable = soup.find('table',{'class':'wikitable sortable'})\n#print(soup.prettify())\n\nheaders = [header.text for header in table.find_all('th')]\n\ntable_rows = table.find_all('tr')        \nrows = []\nfor row in table_rows:\n   td = row.find_all('td')\n   row = [row.text for row in td]\n   rows.append(row)\n\nwith open('BON2_POPULATION1.csv', 'w') as f:\n   writer = csv.writer(f)\n   writer.writerow(headers)\n   writer.writerows(row for row in rows if row)"
        },
        {
            "cell_type": "code",
            "execution_count": 12,
            "metadata": {},
            "outputs": [
                {
                    "name": "stdout",
                    "output_type": "stream",
                    "text": "Data downloaded!\n"
                }
            ],
            "source": "Pop_data=pd.read_csv('BON2_POPULATION1.csv')\nPop_data.drop(Pop_data.columns[[7,8,9,10,11]], axis=1,inplace=True)\nprint('Data downloaded!')"
        },
        {
            "cell_type": "code",
            "execution_count": 13,
            "metadata": {},
            "outputs": [
                {
                    "data": {
                        "text/html": "<div>\n<style scoped>\n    .dataframe tbody tr th:only-of-type {\n        vertical-align: middle;\n    }\n\n    .dataframe tbody tr th {\n        vertical-align: top;\n    }\n\n    .dataframe thead th {\n        text-align: right;\n    }\n</style>\n<table border=\"1\" class=\"dataframe\">\n  <thead>\n    <tr style=\"text-align: right;\">\n      <th></th>\n      <th>NewYorkCitysfiveboroughsvte</th>\n      <th>Jurisdiction</th>\n      <th>Population</th>\n      <th>GrossDomesticProduct</th>\n      <th>Landarea</th>\n      <th>Density</th>\n      <th>persons_sq_mi</th>\n      <th>squarekm</th>\n      <th>persons/sq.mi</th>\n      <th>persons/km2</th>\n    </tr>\n  </thead>\n  <tbody>\n    <tr>\n      <th>0</th>\n      <td>The Bronx\\n</td>\n      <td>\\n  Bronx\\n</td>\n      <td>1,432,132\\n</td>\n      <td>42.695\\n</td>\n      <td>29,200\\n</td>\n      <td>42.10\\n</td>\n      <td>109.04\\n</td>\n      <td>NaN</td>\n      <td>NaN</td>\n      <td>NaN</td>\n    </tr>\n    <tr>\n      <th>1</th>\n      <td>Brooklyn\\n</td>\n      <td>\\n  Kings\\n</td>\n      <td>2,582,830\\n</td>\n      <td>91.559\\n</td>\n      <td>34,600\\n</td>\n      <td>70.82\\n</td>\n      <td>183.42\\n</td>\n      <td>NaN</td>\n      <td>NaN</td>\n      <td>NaN</td>\n    </tr>\n    <tr>\n      <th>2</th>\n      <td>Manhattan\\n</td>\n      <td>\\n  New York\\n</td>\n      <td>1,628,701\\n</td>\n      <td>600.244\\n</td>\n      <td>360,900\\n</td>\n      <td>22.83\\n</td>\n      <td>59.13\\n</td>\n      <td>NaN</td>\n      <td>NaN</td>\n      <td>NaN</td>\n    </tr>\n    <tr>\n      <th>3</th>\n      <td>Queens\\n</td>\n      <td>\\n   Queens\\n</td>\n      <td>2,278,906\\n</td>\n      <td>93.310\\n</td>\n      <td>39,600\\n</td>\n      <td>108.53\\n</td>\n      <td>281.09\\n</td>\n      <td>NaN</td>\n      <td>NaN</td>\n      <td>NaN</td>\n    </tr>\n    <tr>\n      <th>4</th>\n      <td>Staten Island\\n</td>\n      <td>\\n   Richmond\\n</td>\n      <td>476,179\\n</td>\n      <td>14.514\\n</td>\n      <td>30,300\\n</td>\n      <td>58.37\\n</td>\n      <td>151.18\\n</td>\n      <td>NaN</td>\n      <td>NaN</td>\n      <td>NaN</td>\n    </tr>\n    <tr>\n      <th>5</th>\n      <td>City of New York</td>\n      <td>8,398,748</td>\n      <td>842.343</td>\n      <td>97,700</td>\n      <td>302.64</td>\n      <td>783.83</td>\n      <td>28,188</td>\n      <td>NaN</td>\n      <td>NaN</td>\n      <td>NaN</td>\n    </tr>\n    <tr>\n      <th>6</th>\n      <td>State of New York</td>\n      <td>19,745,289</td>\n      <td>1,701.399</td>\n      <td>85,700</td>\n      <td>47,214</td>\n      <td>122,284</td>\n      <td>416.4</td>\n      <td>NaN</td>\n      <td>NaN</td>\n      <td>NaN</td>\n    </tr>\n    <tr>\n      <th>7</th>\n      <td>Sources:[14] and see individual borough articl...</td>\n      <td>NaN</td>\n      <td>NaN</td>\n      <td>NaN</td>\n      <td>NaN</td>\n      <td>NaN</td>\n      <td>NaN</td>\n      <td>NaN</td>\n      <td>NaN</td>\n      <td>NaN</td>\n    </tr>\n  </tbody>\n</table>\n</div>",
                        "text/plain": "                       NewYorkCitysfiveboroughsvte\\n   Jurisdiction\\n  \\\n0                                        The Bronx\\n      \\n  Bronx\\n   \n1                                         Brooklyn\\n      \\n  Kings\\n   \n2                                        Manhattan\\n   \\n  New York\\n   \n3                                           Queens\\n    \\n   Queens\\n   \n4                                    Staten Island\\n  \\n   Richmond\\n   \n5                                   City of New York        8,398,748   \n6                                  State of New York       19,745,289   \n7  Sources:[14] and see individual borough articl...              NaN   \n\n  Population\\n GrossDomesticProduct\\n Landarea\\n Density\\n persons_sq_mi  \\\n0  1,432,132\\n               42.695\\n   29,200\\n   42.10\\n      109.04\\n   \n1  2,582,830\\n               91.559\\n   34,600\\n   70.82\\n      183.42\\n   \n2  1,628,701\\n              600.244\\n  360,900\\n   22.83\\n       59.13\\n   \n3  2,278,906\\n               93.310\\n   39,600\\n  108.53\\n      281.09\\n   \n4    476,179\\n               14.514\\n   30,300\\n   58.37\\n      151.18\\n   \n5      842.343                 97,700     302.64    783.83        28,188   \n6    1,701.399                 85,700     47,214   122,284         416.4   \n7          NaN                    NaN        NaN       NaN           NaN   \n\n   squarekm  persons/sq.mi  persons/km2\\n  \n0       NaN            NaN            NaN  \n1       NaN            NaN            NaN  \n2       NaN            NaN            NaN  \n3       NaN            NaN            NaN  \n4       NaN            NaN            NaN  \n5       NaN            NaN            NaN  \n6       NaN            NaN            NaN  \n7       NaN            NaN            NaN  "
                    },
                    "execution_count": 13,
                    "metadata": {},
                    "output_type": "execute_result"
                }
            ],
            "source": "Pop_data.columns = Pop_data.columns.str.replace(' ', '')\nPop_data.columns = Pop_data.columns.str.replace('\\'','')\nPop_data.rename(columns={'Borough':'persons_sq_mi','County':'persons_sq_km'}, inplace=True)\nPop_data"
        },
        {
            "cell_type": "code",
            "execution_count": 14,
            "metadata": {},
            "outputs": [
                {
                    "data": {
                        "text/html": "<div>\n<style scoped>\n    .dataframe tbody tr th:only-of-type {\n        vertical-align: middle;\n    }\n\n    .dataframe tbody tr th {\n        vertical-align: top;\n    }\n\n    .dataframe thead th {\n        text-align: right;\n    }\n</style>\n<table border=\"1\" class=\"dataframe\">\n  <thead>\n    <tr style=\"text-align: right;\">\n      <th></th>\n      <th>Borough</th>\n      <th>County</th>\n      <th>Estimate_2017</th>\n      <th>GrossDomesticProduct</th>\n      <th>square_miles</th>\n      <th>square_km</th>\n      <th>persons_sq_mi</th>\n      <th>squarekm</th>\n      <th>persons/sq.mi</th>\n      <th>persons/km2</th>\n    </tr>\n  </thead>\n  <tbody>\n    <tr>\n      <th>0</th>\n      <td>The Bronx\\n</td>\n      <td>\\n  Bronx\\n</td>\n      <td>1,432,132\\n</td>\n      <td>42.695\\n</td>\n      <td>29,200\\n</td>\n      <td>42.10\\n</td>\n      <td>109.04\\n</td>\n      <td>NaN</td>\n      <td>NaN</td>\n      <td>NaN</td>\n    </tr>\n    <tr>\n      <th>1</th>\n      <td>Brooklyn\\n</td>\n      <td>\\n  Kings\\n</td>\n      <td>2,582,830\\n</td>\n      <td>91.559\\n</td>\n      <td>34,600\\n</td>\n      <td>70.82\\n</td>\n      <td>183.42\\n</td>\n      <td>NaN</td>\n      <td>NaN</td>\n      <td>NaN</td>\n    </tr>\n    <tr>\n      <th>2</th>\n      <td>Manhattan\\n</td>\n      <td>\\n  New York\\n</td>\n      <td>1,628,701\\n</td>\n      <td>600.244\\n</td>\n      <td>360,900\\n</td>\n      <td>22.83\\n</td>\n      <td>59.13\\n</td>\n      <td>NaN</td>\n      <td>NaN</td>\n      <td>NaN</td>\n    </tr>\n    <tr>\n      <th>3</th>\n      <td>Queens\\n</td>\n      <td>\\n   Queens\\n</td>\n      <td>2,278,906\\n</td>\n      <td>93.310\\n</td>\n      <td>39,600\\n</td>\n      <td>108.53\\n</td>\n      <td>281.09\\n</td>\n      <td>NaN</td>\n      <td>NaN</td>\n      <td>NaN</td>\n    </tr>\n    <tr>\n      <th>4</th>\n      <td>Staten Island\\n</td>\n      <td>\\n   Richmond\\n</td>\n      <td>476,179\\n</td>\n      <td>14.514\\n</td>\n      <td>30,300\\n</td>\n      <td>58.37\\n</td>\n      <td>151.18\\n</td>\n      <td>NaN</td>\n      <td>NaN</td>\n      <td>NaN</td>\n    </tr>\n    <tr>\n      <th>5</th>\n      <td>City of New York</td>\n      <td>8,398,748</td>\n      <td>842.343</td>\n      <td>97,700</td>\n      <td>302.64</td>\n      <td>783.83</td>\n      <td>28,188</td>\n      <td>NaN</td>\n      <td>NaN</td>\n      <td>NaN</td>\n    </tr>\n    <tr>\n      <th>6</th>\n      <td>State of New York</td>\n      <td>19,745,289</td>\n      <td>1,701.399</td>\n      <td>85,700</td>\n      <td>47,214</td>\n      <td>122,284</td>\n      <td>416.4</td>\n      <td>NaN</td>\n      <td>NaN</td>\n      <td>NaN</td>\n    </tr>\n    <tr>\n      <th>7</th>\n      <td>Sources:[14] and see individual borough articl...</td>\n      <td>NaN</td>\n      <td>NaN</td>\n      <td>NaN</td>\n      <td>NaN</td>\n      <td>NaN</td>\n      <td>NaN</td>\n      <td>NaN</td>\n      <td>NaN</td>\n      <td>NaN</td>\n    </tr>\n  </tbody>\n</table>\n</div>",
                        "text/plain": "                                             Borough           County  \\\n0                                        The Bronx\\n      \\n  Bronx\\n   \n1                                         Brooklyn\\n      \\n  Kings\\n   \n2                                        Manhattan\\n   \\n  New York\\n   \n3                                           Queens\\n    \\n   Queens\\n   \n4                                    Staten Island\\n  \\n   Richmond\\n   \n5                                   City of New York        8,398,748   \n6                                  State of New York       19,745,289   \n7  Sources:[14] and see individual borough articl...              NaN   \n\n  Estimate_2017 GrossDomesticProduct\\n square_miles square_km persons_sq_mi  \\\n0   1,432,132\\n               42.695\\n     29,200\\n   42.10\\n      109.04\\n   \n1   2,582,830\\n               91.559\\n     34,600\\n   70.82\\n      183.42\\n   \n2   1,628,701\\n              600.244\\n    360,900\\n   22.83\\n       59.13\\n   \n3   2,278,906\\n               93.310\\n     39,600\\n  108.53\\n      281.09\\n   \n4     476,179\\n               14.514\\n     30,300\\n   58.37\\n      151.18\\n   \n5       842.343                 97,700       302.64    783.83        28,188   \n6     1,701.399                 85,700       47,214   122,284         416.4   \n7           NaN                    NaN          NaN       NaN           NaN   \n\n   squarekm  persons/sq.mi  persons/km2\\n  \n0       NaN            NaN            NaN  \n1       NaN            NaN            NaN  \n2       NaN            NaN            NaN  \n3       NaN            NaN            NaN  \n4       NaN            NaN            NaN  \n5       NaN            NaN            NaN  \n6       NaN            NaN            NaN  \n7       NaN            NaN            NaN  "
                    },
                    "execution_count": 14,
                    "metadata": {},
                    "output_type": "execute_result"
                }
            ],
            "source": "Pop_data.rename(columns = {'NewYorkCitysfiveboroughsvte\\n' : 'Borough',\n                   'Jurisdiction\\n':'County',\n                   'Population\\n':'Estimate_2017', \n                   'Landarea\\n':'square_miles',\n                    'Density\\n':'square_km'}, inplace=True)\nPop_data"
        },
        {
            "cell_type": "code",
            "execution_count": 15,
            "metadata": {},
            "outputs": [
                {
                    "data": {
                        "text/html": "<div>\n<style scoped>\n    .dataframe tbody tr th:only-of-type {\n        vertical-align: middle;\n    }\n\n    .dataframe tbody tr th {\n        vertical-align: top;\n    }\n\n    .dataframe thead th {\n        text-align: right;\n    }\n</style>\n<table border=\"1\" class=\"dataframe\">\n  <thead>\n    <tr style=\"text-align: right;\">\n      <th></th>\n      <th>Borough</th>\n      <th>County</th>\n      <th>Estimate_2017</th>\n      <th>GrossDomesticProduct</th>\n      <th>square_miles</th>\n      <th>square_km</th>\n      <th>persons_sq_mi</th>\n      <th>squarekm</th>\n      <th>persons/sq.mi</th>\n      <th>persons/km2</th>\n    </tr>\n  </thead>\n  <tbody>\n    <tr>\n      <th>0</th>\n      <td>The Bronx</td>\n      <td>Bronx</td>\n      <td>1,432,132</td>\n      <td>42.695\\n</td>\n      <td>29,200</td>\n      <td>42.10</td>\n      <td>109.04</td>\n      <td>NaN</td>\n      <td>NaN</td>\n      <td>NaN</td>\n    </tr>\n    <tr>\n      <th>1</th>\n      <td>Brooklyn</td>\n      <td>Kings</td>\n      <td>2,582,830</td>\n      <td>91.559\\n</td>\n      <td>34,600</td>\n      <td>70.82</td>\n      <td>183.42</td>\n      <td>NaN</td>\n      <td>NaN</td>\n      <td>NaN</td>\n    </tr>\n    <tr>\n      <th>2</th>\n      <td>Manhattan</td>\n      <td>New York</td>\n      <td>1,628,701</td>\n      <td>600.244\\n</td>\n      <td>360,900</td>\n      <td>22.83</td>\n      <td>59.13</td>\n      <td>NaN</td>\n      <td>NaN</td>\n      <td>NaN</td>\n    </tr>\n    <tr>\n      <th>3</th>\n      <td>Queens</td>\n      <td>Queens</td>\n      <td>2,278,906</td>\n      <td>93.310\\n</td>\n      <td>39,600</td>\n      <td>108.53</td>\n      <td>281.09</td>\n      <td>NaN</td>\n      <td>NaN</td>\n      <td>NaN</td>\n    </tr>\n    <tr>\n      <th>4</th>\n      <td>Staten Island</td>\n      <td>Richmond</td>\n      <td>476,179</td>\n      <td>14.514\\n</td>\n      <td>30,300</td>\n      <td>58.37</td>\n      <td>151.18</td>\n      <td>NaN</td>\n      <td>NaN</td>\n      <td>NaN</td>\n    </tr>\n    <tr>\n      <th>5</th>\n      <td>City of New York</td>\n      <td>8,398,748</td>\n      <td>842.343</td>\n      <td>97,700</td>\n      <td>302.64</td>\n      <td>783.83</td>\n      <td>28,188</td>\n      <td>NaN</td>\n      <td>NaN</td>\n      <td>NaN</td>\n    </tr>\n    <tr>\n      <th>6</th>\n      <td>State of New York</td>\n      <td>19,745,289</td>\n      <td>1,701.399</td>\n      <td>85,700</td>\n      <td>47,214</td>\n      <td>122,284</td>\n      <td>416.4</td>\n      <td>NaN</td>\n      <td>NaN</td>\n      <td>NaN</td>\n    </tr>\n    <tr>\n      <th>7</th>\n      <td>Sources:[14] and see individual borough articles</td>\n      <td>NaN</td>\n      <td>NaN</td>\n      <td>NaN</td>\n      <td>NaN</td>\n      <td>NaN</td>\n      <td>NaN</td>\n      <td>NaN</td>\n      <td>NaN</td>\n      <td>NaN</td>\n    </tr>\n  </tbody>\n</table>\n</div>",
                        "text/plain": "                                            Borough       County  \\\n0                                         The Bronx        Bronx   \n1                                          Brooklyn        Kings   \n2                                         Manhattan     New York   \n3                                            Queens       Queens   \n4                                     Staten Island     Richmond   \n5                                  City of New York    8,398,748   \n6                                 State of New York   19,745,289   \n7  Sources:[14] and see individual borough articles          NaN   \n\n  Estimate_2017 GrossDomesticProduct\\n square_miles square_km persons_sq_mi  \\\n0     1,432,132               42.695\\n       29,200     42.10        109.04   \n1     2,582,830               91.559\\n       34,600     70.82        183.42   \n2     1,628,701              600.244\\n      360,900     22.83         59.13   \n3     2,278,906               93.310\\n       39,600    108.53        281.09   \n4       476,179               14.514\\n       30,300     58.37        151.18   \n5       842.343                 97,700       302.64    783.83        28,188   \n6     1,701.399                 85,700       47,214   122,284         416.4   \n7           NaN                    NaN          NaN       NaN           NaN   \n\n   squarekm  persons/sq.mi  persons/km2\\n  \n0       NaN            NaN            NaN  \n1       NaN            NaN            NaN  \n2       NaN            NaN            NaN  \n3       NaN            NaN            NaN  \n4       NaN            NaN            NaN  \n5       NaN            NaN            NaN  \n6       NaN            NaN            NaN  \n7       NaN            NaN            NaN  "
                    },
                    "execution_count": 15,
                    "metadata": {},
                    "output_type": "execute_result"
                }
            ],
            "source": "Pop_data['Borough']=Pop_data['Borough'].replace(to_replace='\\n', value='', regex=True)\nPop_data['County']=Pop_data['County'].replace(to_replace='\\n', value='', regex=True)\nPop_data['Estimate_2017']=Pop_data['Estimate_2017'].replace(to_replace='\\n', value='', regex=True)\nPop_data['square_miles']=Pop_data['square_miles'].replace(to_replace='\\n', value='', regex=True)\nPop_data['square_km']=Pop_data['square_km'].replace(to_replace='\\n', value='', regex=True)\nPop_data['persons_sq_mi']=Pop_data['persons_sq_mi'].replace(to_replace='\\n', value='', regex=True)\nPop_data['squarekm']=Pop_data['squarekm'].replace(to_replace='\\n', value='', regex=True)\nPop_data"
        },
        {
            "cell_type": "code",
            "execution_count": 16,
            "metadata": {},
            "outputs": [
                {
                    "data": {
                        "text/html": "<div>\n<style scoped>\n    .dataframe tbody tr th:only-of-type {\n        vertical-align: middle;\n    }\n\n    .dataframe tbody tr th {\n        vertical-align: top;\n    }\n\n    .dataframe thead th {\n        text-align: right;\n    }\n</style>\n<table border=\"1\" class=\"dataframe\">\n  <thead>\n    <tr style=\"text-align: right;\">\n      <th></th>\n      <th>Borough</th>\n      <th>County</th>\n      <th>Estimate_2017</th>\n      <th>GrossDomesticProduct</th>\n      <th>square_miles</th>\n      <th>square_km</th>\n      <th>persons_sq_mi</th>\n      <th>squarekm</th>\n      <th>persons/sq.mi</th>\n      <th>persons/km2</th>\n    </tr>\n  </thead>\n  <tbody>\n    <tr>\n      <th>0</th>\n      <td>The Bronx</td>\n      <td>Bronx</td>\n      <td>1,432,132</td>\n      <td>42.695\\n</td>\n      <td>29,200</td>\n      <td>42.10</td>\n      <td>109.04</td>\n      <td>NaN</td>\n      <td>NaN</td>\n      <td>NaN</td>\n    </tr>\n    <tr>\n      <th>1</th>\n      <td>Brooklyn</td>\n      <td>Kings</td>\n      <td>2,582,830</td>\n      <td>91.559\\n</td>\n      <td>34,600</td>\n      <td>70.82</td>\n      <td>183.42</td>\n      <td>NaN</td>\n      <td>NaN</td>\n      <td>NaN</td>\n    </tr>\n    <tr>\n      <th>2</th>\n      <td>Manhattan</td>\n      <td>New York</td>\n      <td>1,628,701</td>\n      <td>600.244\\n</td>\n      <td>360,900</td>\n      <td>22.83</td>\n      <td>59.13</td>\n      <td>NaN</td>\n      <td>NaN</td>\n      <td>NaN</td>\n    </tr>\n    <tr>\n      <th>3</th>\n      <td>Queens</td>\n      <td>Queens</td>\n      <td>2,278,906</td>\n      <td>93.310\\n</td>\n      <td>39,600</td>\n      <td>108.53</td>\n      <td>281.09</td>\n      <td>NaN</td>\n      <td>NaN</td>\n      <td>NaN</td>\n    </tr>\n    <tr>\n      <th>4</th>\n      <td>Staten Island</td>\n      <td>Richmond</td>\n      <td>476,179</td>\n      <td>14.514\\n</td>\n      <td>30,300</td>\n      <td>58.37</td>\n      <td>151.18</td>\n      <td>NaN</td>\n      <td>NaN</td>\n      <td>NaN</td>\n    </tr>\n    <tr>\n      <th>5</th>\n      <td>NaN</td>\n      <td>City of New York</td>\n      <td>8,398,748</td>\n      <td>97,700</td>\n      <td>842.343</td>\n      <td>302.64</td>\n      <td>783.83</td>\n      <td>NaN</td>\n      <td>NaN</td>\n      <td>NaN</td>\n    </tr>\n    <tr>\n      <th>6</th>\n      <td>NaN</td>\n      <td>State of New York</td>\n      <td>19,745,289</td>\n      <td>85,700</td>\n      <td>1,701.399</td>\n      <td>47,214</td>\n      <td>122,284</td>\n      <td>NaN</td>\n      <td>NaN</td>\n      <td>NaN</td>\n    </tr>\n    <tr>\n      <th>7</th>\n      <td>NaN</td>\n      <td>Sources:[14] and see individual borough articles</td>\n      <td>NaN</td>\n      <td>NaN</td>\n      <td>NaN</td>\n      <td>NaN</td>\n      <td>NaN</td>\n      <td>NaN</td>\n      <td>NaN</td>\n      <td>NaN</td>\n    </tr>\n  </tbody>\n</table>\n</div>",
                        "text/plain": "         Borough                                            County  \\\n0      The Bronx                                             Bronx   \n1       Brooklyn                                             Kings   \n2      Manhattan                                          New York   \n3         Queens                                            Queens   \n4  Staten Island                                          Richmond   \n5            NaN                                  City of New York   \n6            NaN                                 State of New York   \n7            NaN  Sources:[14] and see individual borough articles   \n\n  Estimate_2017 GrossDomesticProduct\\n square_miles square_km persons_sq_mi  \\\n0     1,432,132               42.695\\n       29,200     42.10        109.04   \n1     2,582,830               91.559\\n       34,600     70.82        183.42   \n2     1,628,701              600.244\\n      360,900     22.83         59.13   \n3     2,278,906               93.310\\n       39,600    108.53        281.09   \n4       476,179               14.514\\n       30,300     58.37        151.18   \n5     8,398,748                 97,700      842.343    302.64        783.83   \n6    19,745,289                 85,700    1,701.399    47,214       122,284   \n7           NaN                    NaN          NaN       NaN           NaN   \n\n   squarekm  persons/sq.mi  persons/km2\\n  \n0       NaN            NaN            NaN  \n1       NaN            NaN            NaN  \n2       NaN            NaN            NaN  \n3       NaN            NaN            NaN  \n4       NaN            NaN            NaN  \n5       NaN            NaN            NaN  \n6       NaN            NaN            NaN  \n7       NaN            NaN            NaN  "
                    },
                    "execution_count": 16,
                    "metadata": {},
                    "output_type": "execute_result"
                }
            ],
            "source": "Pop_data.loc[5:,['persons_sq_mi','squarekm']] = Pop_data.loc[2:,['persons_sq_mi','squarekm']].shift(1,axis=1)\nPop_data.loc[5:,['squarekm','persons_sq_mi']] = Pop_data.loc[2:,['square_km','persons_sq_mi']].shift(1,axis=1)\nPop_data.loc[5:,['square_miles','square_km']] = Pop_data.loc[2:,['square_miles','square_km']].shift(1,axis=1)\nPop_data.loc[5:,['Estimate_2017','square_miles']] = Pop_data.loc[2:,['Estimate_2017','square_miles']].shift(1,axis=1)\nPop_data.loc[5:,['County','Estimate_2017']] = Pop_data.loc[2:,['County','Estimate_2017']].shift(1,axis=1)\nPop_data.loc[5:,['Borough','County']] = Pop_data.loc[2:,['Borough','County']].shift(1,axis=1)\nPop_data"
        },
        {
            "cell_type": "code",
            "execution_count": 17,
            "metadata": {},
            "outputs": [
                {
                    "data": {
                        "text/html": "<div>\n<style scoped>\n    .dataframe tbody tr th:only-of-type {\n        vertical-align: middle;\n    }\n\n    .dataframe tbody tr th {\n        vertical-align: top;\n    }\n\n    .dataframe thead th {\n        text-align: right;\n    }\n</style>\n<table border=\"1\" class=\"dataframe\">\n  <thead>\n    <tr style=\"text-align: right;\">\n      <th></th>\n      <th>Borough</th>\n      <th>County</th>\n      <th>Estimate_2017</th>\n      <th>GrossDomesticProduct</th>\n      <th>square_miles</th>\n      <th>square_km</th>\n      <th>persons_sq_mi</th>\n      <th>squarekm</th>\n      <th>persons/sq.mi</th>\n      <th>persons/km2</th>\n    </tr>\n  </thead>\n  <tbody>\n    <tr>\n      <th>0</th>\n      <td>The Bronx</td>\n      <td>Bronx</td>\n      <td>1,432,132</td>\n      <td>42.695\\n</td>\n      <td>29,200</td>\n      <td>42.10</td>\n      <td>109.04</td>\n      <td></td>\n      <td></td>\n      <td></td>\n    </tr>\n    <tr>\n      <th>1</th>\n      <td>Brooklyn</td>\n      <td>Kings</td>\n      <td>2,582,830</td>\n      <td>91.559\\n</td>\n      <td>34,600</td>\n      <td>70.82</td>\n      <td>183.42</td>\n      <td></td>\n      <td></td>\n      <td></td>\n    </tr>\n    <tr>\n      <th>2</th>\n      <td>Manhattan</td>\n      <td>New York</td>\n      <td>1,628,701</td>\n      <td>600.244\\n</td>\n      <td>360,900</td>\n      <td>22.83</td>\n      <td>59.13</td>\n      <td></td>\n      <td></td>\n      <td></td>\n    </tr>\n    <tr>\n      <th>3</th>\n      <td>Queens</td>\n      <td>Queens</td>\n      <td>2,278,906</td>\n      <td>93.310\\n</td>\n      <td>39,600</td>\n      <td>108.53</td>\n      <td>281.09</td>\n      <td></td>\n      <td></td>\n      <td></td>\n    </tr>\n    <tr>\n      <th>4</th>\n      <td>Staten Island</td>\n      <td>Richmond</td>\n      <td>476,179</td>\n      <td>14.514\\n</td>\n      <td>30,300</td>\n      <td>58.37</td>\n      <td>151.18</td>\n      <td></td>\n      <td></td>\n      <td></td>\n    </tr>\n    <tr>\n      <th>5</th>\n      <td></td>\n      <td>City of New York</td>\n      <td>8,398,748</td>\n      <td>97,700</td>\n      <td>842.343</td>\n      <td>302.64</td>\n      <td>783.83</td>\n      <td></td>\n      <td></td>\n      <td></td>\n    </tr>\n    <tr>\n      <th>6</th>\n      <td></td>\n      <td>State of New York</td>\n      <td>19,745,289</td>\n      <td>85,700</td>\n      <td>1,701.399</td>\n      <td>47,214</td>\n      <td>122,284</td>\n      <td></td>\n      <td></td>\n      <td></td>\n    </tr>\n    <tr>\n      <th>7</th>\n      <td></td>\n      <td>Sources:[14] and see individual borough articles</td>\n      <td></td>\n      <td></td>\n      <td></td>\n      <td></td>\n      <td></td>\n      <td></td>\n      <td></td>\n      <td></td>\n    </tr>\n  </tbody>\n</table>\n</div>",
                        "text/plain": "         Borough                                            County  \\\n0      The Bronx                                             Bronx   \n1       Brooklyn                                             Kings   \n2      Manhattan                                          New York   \n3         Queens                                            Queens   \n4  Staten Island                                          Richmond   \n5                                                 City of New York   \n6                                                State of New York   \n7                 Sources:[14] and see individual borough articles   \n\n  Estimate_2017 GrossDomesticProduct\\n square_miles square_km persons_sq_mi  \\\n0     1,432,132               42.695\\n       29,200     42.10        109.04   \n1     2,582,830               91.559\\n       34,600     70.82        183.42   \n2     1,628,701              600.244\\n      360,900     22.83         59.13   \n3     2,278,906               93.310\\n       39,600    108.53        281.09   \n4       476,179               14.514\\n       30,300     58.37        151.18   \n5     8,398,748                 97,700      842.343    302.64        783.83   \n6    19,745,289                 85,700    1,701.399    47,214       122,284   \n7                                                                             \n\n  squarekm persons/sq.mi persons/km2\\n  \n0                                       \n1                                       \n2                                       \n3                                       \n4                                       \n5                                       \n6                                       \n7                                       "
                    },
                    "execution_count": 17,
                    "metadata": {},
                    "output_type": "execute_result"
                }
            ],
            "source": "Pop_data = Pop_data.fillna('')\nPop_data"
        },
        {
            "cell_type": "code",
            "execution_count": 18,
            "metadata": {},
            "outputs": [
                {
                    "data": {
                        "text/html": "<div>\n<style scoped>\n    .dataframe tbody tr th:only-of-type {\n        vertical-align: middle;\n    }\n\n    .dataframe tbody tr th {\n        vertical-align: top;\n    }\n\n    .dataframe thead th {\n        text-align: right;\n    }\n</style>\n<table border=\"1\" class=\"dataframe\">\n  <thead>\n    <tr style=\"text-align: right;\">\n      <th></th>\n      <th>Borough</th>\n      <th>County</th>\n      <th>Estimate_2017</th>\n      <th>GrossDomesticProduct</th>\n      <th>square_miles</th>\n      <th>square_km</th>\n      <th>persons_sq_mi</th>\n      <th>squarekm</th>\n      <th>persons/sq.mi</th>\n      <th>persons/km2</th>\n    </tr>\n  </thead>\n  <tbody>\n    <tr>\n      <th>0</th>\n      <td>The Bronx</td>\n      <td>Bronx</td>\n      <td>1,432,132</td>\n      <td>42.695\\n</td>\n      <td>29,200</td>\n      <td>42.10</td>\n      <td>109.04</td>\n      <td></td>\n      <td></td>\n      <td></td>\n    </tr>\n    <tr>\n      <th>1</th>\n      <td>Brooklyn</td>\n      <td>Kings</td>\n      <td>2,582,830</td>\n      <td>91.559\\n</td>\n      <td>34,600</td>\n      <td>70.82</td>\n      <td>183.42</td>\n      <td></td>\n      <td></td>\n      <td></td>\n    </tr>\n    <tr>\n      <th>2</th>\n      <td>Manhattan</td>\n      <td>New York</td>\n      <td>1,628,701</td>\n      <td>600.244\\n</td>\n      <td>360,900</td>\n      <td>22.83</td>\n      <td>59.13</td>\n      <td></td>\n      <td></td>\n      <td></td>\n    </tr>\n    <tr>\n      <th>3</th>\n      <td>Queens</td>\n      <td>Queens</td>\n      <td>2,278,906</td>\n      <td>93.310\\n</td>\n      <td>39,600</td>\n      <td>108.53</td>\n      <td>281.09</td>\n      <td></td>\n      <td></td>\n      <td></td>\n    </tr>\n    <tr>\n      <th>4</th>\n      <td>Staten Island</td>\n      <td>Richmond</td>\n      <td>476,179</td>\n      <td>14.514\\n</td>\n      <td>30,300</td>\n      <td>58.37</td>\n      <td>151.18</td>\n      <td></td>\n      <td></td>\n      <td></td>\n    </tr>\n    <tr>\n      <th>5</th>\n      <td></td>\n      <td>City of New York</td>\n      <td>8,398,748</td>\n      <td>97,700</td>\n      <td>842.343</td>\n      <td>302.64</td>\n      <td>783.83</td>\n      <td></td>\n      <td></td>\n      <td></td>\n    </tr>\n    <tr>\n      <th>6</th>\n      <td></td>\n      <td>State of New York</td>\n      <td>19,745,289</td>\n      <td>85,700</td>\n      <td>1,701.399</td>\n      <td>47,214</td>\n      <td>122,284</td>\n      <td></td>\n      <td></td>\n      <td></td>\n    </tr>\n    <tr>\n      <th>7</th>\n      <td></td>\n      <td>Sources:[14] and see individual borough articles</td>\n      <td></td>\n      <td></td>\n      <td></td>\n      <td></td>\n      <td></td>\n      <td></td>\n      <td></td>\n      <td></td>\n    </tr>\n  </tbody>\n</table>\n</div>",
                        "text/plain": "         Borough                                            County  \\\n0      The Bronx                                             Bronx   \n1       Brooklyn                                             Kings   \n2      Manhattan                                          New York   \n3         Queens                                            Queens   \n4  Staten Island                                          Richmond   \n5                                                 City of New York   \n6                                                State of New York   \n7                 Sources:[14] and see individual borough articles   \n\n  Estimate_2017 GrossDomesticProduct\\n square_miles square_km persons_sq_mi  \\\n0     1,432,132               42.695\\n       29,200     42.10        109.04   \n1     2,582,830               91.559\\n       34,600     70.82        183.42   \n2     1,628,701              600.244\\n      360,900     22.83         59.13   \n3     2,278,906               93.310\\n       39,600    108.53        281.09   \n4       476,179               14.514\\n       30,300     58.37        151.18   \n5     8,398,748                 97,700      842.343    302.64        783.83   \n6    19,745,289                 85,700    1,701.399    47,214       122,284   \n7                                                                             \n\n  squarekm persons/sq.mi persons/km2\\n  \n0                                       \n1                                       \n2                                       \n3                                       \n4                                       \n5                                       \n6                                       \n7                                       "
                    },
                    "execution_count": 18,
                    "metadata": {},
                    "output_type": "execute_result"
                }
            ],
            "source": "i = Pop_data[((Pop_data.County == 'Sources: [2] and see individual borough articles'))].index\nPop_data.drop(i)"
        },
        {
            "cell_type": "code",
            "execution_count": 19,
            "metadata": {},
            "outputs": [],
            "source": "Pop_data.to_csv('BON2_POPULATION.csv',index=False)\n"
        },
        {
            "cell_type": "code",
            "execution_count": 38,
            "metadata": {},
            "outputs": [],
            "source": "website_url = requests.get('https://en.wikipedia.org/wiki/New_York_City').text\nsoup = BeautifulSoup(website_url,'lxml')\ntable = soup.select('table.wikitable')[4]\n#print(soup.prettify())\n\nheaders = [header.text for header in table.find_all('th')]\n\ntable_rows = table.find_all('tr')        \nrows = []\nfor row in table_rows:\n   td = row.find_all('td')\n   row = [row.text for row in td]\n   rows.append(row)\n\nwith open('NYC_DEMO.csv', 'w') as f:\n   writer = csv.writer(f)\n   writer.writerow(headers)\n   writer.writerows(row for row in rows if row)"
        },
        {
            "cell_type": "code",
            "execution_count": 39,
            "metadata": {},
            "outputs": [
                {
                    "name": "stdout",
                    "output_type": "stream",
                    "text": "Data downloaded!\n"
                }
            ],
            "source": "Demo_data=pd.read_csv('NYC_DEMO.csv')\nprint('Data downloaded!')"
        },
        {
            "cell_type": "code",
            "execution_count": 40,
            "metadata": {},
            "outputs": [
                {
                    "data": {
                        "text/html": "<div>\n<style scoped>\n    .dataframe tbody tr th:only-of-type {\n        vertical-align: middle;\n    }\n\n    .dataframe tbody tr th {\n        vertical-align: top;\n    }\n\n    .dataframe thead th {\n        text-align: right;\n    }\n</style>\n<table border=\"1\" class=\"dataframe\">\n  <thead>\n    <tr style=\"text-align: right;\">\n      <th></th>\n      <th>Racial composition</th>\n      <th>2010[231]</th>\n      <th>1990[233]</th>\n      <th>1970[233]</th>\n      <th>1940[233]</th>\n    </tr>\n  </thead>\n  <tbody>\n    <tr>\n      <th>0</th>\n      <td>White</td>\n      <td>44.0%</td>\n      <td>52.3%</td>\n      <td>76.6%</td>\n      <td>93.6%\\n</td>\n    </tr>\n    <tr>\n      <th>1</th>\n      <td>\u2014Non-Hispanic</td>\n      <td>33.3%</td>\n      <td>43.2%</td>\n      <td>62.9%[234]</td>\n      <td>92.0%\\n</td>\n    </tr>\n    <tr>\n      <th>2</th>\n      <td>Black or African American</td>\n      <td>25.5%</td>\n      <td>28.7%</td>\n      <td>21.1%</td>\n      <td>6.1%\\n</td>\n    </tr>\n    <tr>\n      <th>3</th>\n      <td>Hispanic or Latino (of any race)</td>\n      <td>28.6%</td>\n      <td>24.4%</td>\n      <td>16.2%[234]</td>\n      <td>1.6%\\n</td>\n    </tr>\n    <tr>\n      <th>4</th>\n      <td>Asian</td>\n      <td>12.7%</td>\n      <td>7.0%</td>\n      <td>1.2%</td>\n      <td>\u2212\\n</td>\n    </tr>\n  </tbody>\n</table>\n</div>",
                        "text/plain": "                 Racial composition 2010[231] 1990[233]   1970[233]  \\\n0                             White     44.0%     52.3%       76.6%   \n1                     \u2014Non-Hispanic     33.3%     43.2%  62.9%[234]   \n2         Black or African American     25.5%     28.7%       21.1%   \n3  Hispanic or Latino (of any race)     28.6%     24.4%  16.2%[234]   \n4                             Asian     12.7%      7.0%        1.2%   \n\n  1940[233]\\n  \n0     93.6%\\n  \n1     92.0%\\n  \n2      6.1%\\n  \n3      1.6%\\n  \n4         \u2212\\n  "
                    },
                    "execution_count": 40,
                    "metadata": {},
                    "output_type": "execute_result"
                }
            ],
            "source": "Demo_data\n"
        },
        {
            "cell_type": "code",
            "execution_count": 41,
            "metadata": {},
            "outputs": [
                {
                    "data": {
                        "text/plain": "Index(['Racial composition', '2010[231]', '1990[233]', '1970[233]',\n       '1940[233]\\n'],\n      dtype='object')"
                    },
                    "execution_count": 41,
                    "metadata": {},
                    "output_type": "execute_result"
                }
            ],
            "source": "Demo_data.columns\n"
        },
        {
            "cell_type": "code",
            "execution_count": 47,
            "metadata": {},
            "outputs": [
                {
                    "data": {
                        "text/html": "<div>\n<style scoped>\n    .dataframe tbody tr th:only-of-type {\n        vertical-align: middle;\n    }\n\n    .dataframe tbody tr th {\n        vertical-align: top;\n    }\n\n    .dataframe thead th {\n        text-align: right;\n    }\n</style>\n<table border=\"1\" class=\"dataframe\">\n  <thead>\n    <tr style=\"text-align: right;\">\n      <th></th>\n      <th>Racialcomposition</th>\n      <th>2010</th>\n      <th>1990</th>\n      <th>1970</th>\n      <th>1940</th>\n    </tr>\n  </thead>\n  <tbody>\n    <tr>\n      <th>0</th>\n      <td>White</td>\n      <td>44.0%</td>\n      <td>52.3%</td>\n      <td>76.6%</td>\n      <td>93.6%</td>\n    </tr>\n    <tr>\n      <th>1</th>\n      <td>\u2014Non-Hispanic</td>\n      <td>33.3%</td>\n      <td>43.2%</td>\n      <td>62.9%[234]</td>\n      <td>92.0%</td>\n    </tr>\n    <tr>\n      <th>2</th>\n      <td>Black or African American</td>\n      <td>25.5%</td>\n      <td>28.7%</td>\n      <td>21.1%</td>\n      <td>6.1%</td>\n    </tr>\n    <tr>\n      <th>3</th>\n      <td>Hispanic or Latino (of any race)</td>\n      <td>28.6%</td>\n      <td>24.4%</td>\n      <td>16.2%[234]</td>\n      <td>1.6%</td>\n    </tr>\n    <tr>\n      <th>4</th>\n      <td>Asian</td>\n      <td>12.7%</td>\n      <td>7.0%</td>\n      <td>1.2%</td>\n      <td>\u2212</td>\n    </tr>\n  </tbody>\n</table>\n</div>",
                        "text/plain": "                  Racialcomposition   2010   1990        1970    1940\n0                             White  44.0%  52.3%       76.6%  93.6% \n1                     \u2014Non-Hispanic  33.3%  43.2%  62.9%[234]  92.0% \n2         Black or African American  25.5%  28.7%       21.1%   6.1% \n3  Hispanic or Latino (of any race)  28.6%  24.4%  16.2%[234]   1.6% \n4                             Asian  12.7%   7.0%        1.2%      \u2212 "
                    },
                    "execution_count": 47,
                    "metadata": {},
                    "output_type": "execute_result"
                }
            ],
            "source": "Demo_data.rename(columns = {'2010[231]' : '2010',\n                   '1990[233]':'1990',\n                   '1970[233]':'1970', \n                   '1940[233]\\n':'1940',\n                    }, inplace=True)\nDemo_data"
        },
        {
            "cell_type": "code",
            "execution_count": 48,
            "metadata": {},
            "outputs": [
                {
                    "data": {
                        "text/plain": "Index(['Racialcomposition', '2010', '1990', '1970', '1940'], dtype='object')"
                    },
                    "execution_count": 48,
                    "metadata": {},
                    "output_type": "execute_result"
                }
            ],
            "source": "Demo_data.columns\n"
        },
        {
            "cell_type": "code",
            "execution_count": 49,
            "metadata": {},
            "outputs": [],
            "source": "Demo_data.columns = Demo_data.columns.str.replace(' ', '')\n"
        },
        {
            "cell_type": "code",
            "execution_count": 50,
            "metadata": {},
            "outputs": [
                {
                    "data": {
                        "text/html": "<div>\n<style scoped>\n    .dataframe tbody tr th:only-of-type {\n        vertical-align: middle;\n    }\n\n    .dataframe tbody tr th {\n        vertical-align: top;\n    }\n\n    .dataframe thead th {\n        text-align: right;\n    }\n</style>\n<table border=\"1\" class=\"dataframe\">\n  <thead>\n    <tr style=\"text-align: right;\">\n      <th></th>\n      <th>Racialcomposition</th>\n      <th>2010</th>\n      <th>1990</th>\n      <th>1970</th>\n      <th>1940</th>\n    </tr>\n  </thead>\n  <tbody>\n    <tr>\n      <th>0</th>\n      <td>White</td>\n      <td>44.0%</td>\n      <td>52.3%</td>\n      <td>76.6%</td>\n      <td>93.6%</td>\n    </tr>\n    <tr>\n      <th>1</th>\n      <td>\u2014Non-Hispanic</td>\n      <td>33.3%</td>\n      <td>43.2%</td>\n      <td>62.9%[234]</td>\n      <td>92.0%</td>\n    </tr>\n    <tr>\n      <th>2</th>\n      <td>Black or African American</td>\n      <td>25.5%</td>\n      <td>28.7%</td>\n      <td>21.1%</td>\n      <td>6.1%</td>\n    </tr>\n    <tr>\n      <th>3</th>\n      <td>Hispanic or Latino (of any race)</td>\n      <td>28.6%</td>\n      <td>24.4%</td>\n      <td>16.2%[234]</td>\n      <td>1.6%</td>\n    </tr>\n    <tr>\n      <th>4</th>\n      <td>Asian</td>\n      <td>12.7%</td>\n      <td>7.0%</td>\n      <td>1.2%</td>\n      <td>\u2212</td>\n    </tr>\n  </tbody>\n</table>\n</div>",
                        "text/plain": "                  Racialcomposition   2010   1990        1970    1940\n0                             White  44.0%  52.3%       76.6%  93.6% \n1                     \u2014Non-Hispanic  33.3%  43.2%  62.9%[234]  92.0% \n2         Black or African American  25.5%  28.7%       21.1%   6.1% \n3  Hispanic or Latino (of any race)  28.6%  24.4%  16.2%[234]   1.6% \n4                             Asian  12.7%   7.0%        1.2%      \u2212 "
                    },
                    "execution_count": 50,
                    "metadata": {},
                    "output_type": "execute_result"
                }
            ],
            "source": "Demo_data= Demo_data.replace('\\n',' ', regex=True)\nDemo_data"
        },
        {
            "cell_type": "code",
            "execution_count": 52,
            "metadata": {},
            "outputs": [
                {
                    "data": {
                        "text/html": "<div>\n<style scoped>\n    .dataframe tbody tr th:only-of-type {\n        vertical-align: middle;\n    }\n\n    .dataframe tbody tr th {\n        vertical-align: top;\n    }\n\n    .dataframe thead th {\n        text-align: right;\n    }\n</style>\n<table border=\"1\" class=\"dataframe\">\n  <thead>\n    <tr style=\"text-align: right;\">\n      <th></th>\n      <th>Racialcomposition</th>\n      <th>2010</th>\n      <th>1990</th>\n      <th>1970</th>\n      <th>1940</th>\n    </tr>\n  </thead>\n  <tbody>\n    <tr>\n      <th>0</th>\n      <td>White</td>\n      <td>44.0%</td>\n      <td>52.3%</td>\n      <td>76.6%</td>\n      <td>93.6%</td>\n    </tr>\n    <tr>\n      <th>1</th>\n      <td>\u2014Non-Hispanic</td>\n      <td>33.3%</td>\n      <td>43.2%</td>\n      <td>62.9%</td>\n      <td>92.0%</td>\n    </tr>\n    <tr>\n      <th>2</th>\n      <td>Black or African American</td>\n      <td>25.5%</td>\n      <td>28.7%</td>\n      <td>21.1%</td>\n      <td>6.1%</td>\n    </tr>\n    <tr>\n      <th>3</th>\n      <td>Hispanic or Latino (of any race)</td>\n      <td>28.6%</td>\n      <td>24.4%</td>\n      <td>16.2%</td>\n      <td>1.6%</td>\n    </tr>\n    <tr>\n      <th>4</th>\n      <td>Asian</td>\n      <td>12.7%</td>\n      <td>7.0%</td>\n      <td>1.2%</td>\n      <td>\u2212</td>\n    </tr>\n  </tbody>\n</table>\n</div>",
                        "text/plain": "                  Racialcomposition   2010   1990   1970    1940\n0                             White  44.0%  52.3%  76.6%  93.6% \n1                     \u2014Non-Hispanic  33.3%  43.2%  62.9%  92.0% \n2         Black or African American  25.5%  28.7%  21.1%   6.1% \n3  Hispanic or Latino (of any race)  28.6%  24.4%  16.2%   1.6% \n4                             Asian  12.7%   7.0%   1.2%      \u2212 "
                    },
                    "execution_count": 52,
                    "metadata": {},
                    "output_type": "execute_result"
                }
            ],
            "source": "Demo_data['1970'] = Demo_data['1970'].str.rstrip('[234]')\nDemo_data"
        },
        {
            "cell_type": "code",
            "execution_count": 53,
            "metadata": {},
            "outputs": [],
            "source": "Demo_data.to_csv('BON2_DEMOGRAPHICS.csv',index=False)"
        },
        {
            "cell_type": "code",
            "execution_count": null,
            "metadata": {},
            "outputs": [],
            "source": ""
        }
    ],
    "metadata": {
        "kernelspec": {
            "display_name": "Python 3.6",
            "language": "python",
            "name": "python3"
        },
        "language_info": {
            "codemirror_mode": {
                "name": "ipython",
                "version": 3
            },
            "file_extension": ".py",
            "mimetype": "text/x-python",
            "name": "python",
            "nbconvert_exporter": "python",
            "pygments_lexer": "ipython3",
            "version": "3.6.9"
        }
    },
    "nbformat": 4,
    "nbformat_minor": 1
}